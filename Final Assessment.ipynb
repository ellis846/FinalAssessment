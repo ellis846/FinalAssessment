{
 "cells": [
  {
   "cell_type": "markdown",
   "metadata": {
    "collapsed": true
   },
   "source": [
    "# My Jupyter Notebook on IBM Watson Studio"
   ]
  },
  {
   "cell_type": "markdown",
   "metadata": {},
   "source": [
    "__Matthew Ellis__\n",
    "Policy Analyst"
   ]
  },
  {
   "cell_type": "markdown",
   "metadata": {},
   "source": [
    "_The reason I am interested in data science is because I want to utilize technology to innovate the way small cities are able to implement good policies. Far too many places, especially in the rust belt are years behind and by gaining knowledge in this field I hope to bring such innovations to places like my hometown. "
   ]
  },
  {
   "cell_type": "markdown",
   "metadata": {},
   "source": [
    "### Cell 5 is intended to add 4 and 6 together. "
   ]
  },
  {
   "cell_type": "code",
   "execution_count": 1,
   "metadata": {},
   "outputs": [
    {
     "data": {
      "text/plain": [
       "10"
      ]
     },
     "execution_count": 1,
     "metadata": {},
     "output_type": "execute_result"
    }
   ],
   "source": [
    "4 + 6 "
   ]
  },
  {
   "cell_type": "markdown",
   "metadata": {},
   "source": [
    "#### My Favorite U.S. Representatives \n",
    "1. Tim Ryan (D-OH)\n",
    "2. Conor Lamb (D-PA)\n",
    "3. Katie Porter (D-CA)\n",
    "\n",
    "#### Tim Ryan's Best Pieces of Legislation (in no order) \n",
    "- The Pro Act\n",
    "- American Rescue Plan\n",
    "- Bipartisan Infrastructure Law\n",
    "\n",
    "#### New York Times Article \n",
    "(https://www.nytimes.com/2022/11/20/us/politics/sherrod-brown-ohio-senate.html) "
   ]
  }
 ],
 "metadata": {
  "kernelspec": {
   "display_name": "Python 3.10",
   "language": "python",
   "name": "python3"
  },
  "language_info": {
   "codemirror_mode": {
    "name": "ipython",
    "version": 3
   },
   "file_extension": ".py",
   "mimetype": "text/x-python",
   "name": "python",
   "nbconvert_exporter": "python",
   "pygments_lexer": "ipython3",
   "version": "3.10.6"
  }
 },
 "nbformat": 4,
 "nbformat_minor": 1
}
